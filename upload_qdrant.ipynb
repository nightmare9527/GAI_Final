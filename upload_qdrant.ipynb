{
 "cells": [
  {
   "cell_type": "code",
   "execution_count": 2,
   "metadata": {},
   "outputs": [],
   "source": [
    "from qdrant_client import QdrantClient\n",
    "from qdrant_client.http.models import Distance, VectorParams, PointStruct\n",
    "import json\n"
   ]
  },
  {
   "cell_type": "code",
   "execution_count": 4,
   "metadata": {},
   "outputs": [],
   "source": [
    "# open jsonl file and load data\n",
    "with open('./data/train_with_id_embedding.jsonl', 'r') as f:\n",
    "    data = f.readlines()\n",
    "    data = [json.loads(d) for d in data]"
   ]
  },
  {
   "cell_type": "code",
   "execution_count": 7,
   "metadata": {},
   "outputs": [
    {
     "name": "stdout",
     "output_type": "stream",
     "text": [
      "collections=[CollectionDescription(name='test_conv_collection'), CollectionDescription(name='2d7a68ead1a04c17b69ccf83fbb24573'), CollectionDescription(name='psyQA_zh-TW_collection'), CollectionDescription(name='test'), CollectionDescription(name='psyQA_zh-TW_collection_llamaindex'), CollectionDescription(name='paul_graham'), CollectionDescription(name='test2'), CollectionDescription(name='test1')]\n",
      "Creating collection: judgement_collection\n"
     ]
    }
   ],
   "source": [
    "client = QdrantClient(\"localhost\", prefer_grpc=True)\n",
    "COLLECTION_NAME = \"judgement_collection\"\n",
    "collections = client.get_collections()\n",
    "print(collections)\n",
    "\n",
    "\n",
    "# craete collection if not exist\n",
    "if not any(\n",
    "    COLLECTION_NAME in collection.name for collection in collections.collections\n",
    "):\n",
    "    # if COLLECTION_NAME not in collections.collections:\n",
    "    print(f\"Creating collection: {COLLECTION_NAME}\")\n",
    "    client.create_collection(\n",
    "        collection_name=COLLECTION_NAME,\n",
    "        vectors_config=VectorParams(size=1536, distance=Distance.COSINE),\n",
    "    )\n",
    "\n"
   ]
  },
  {
   "cell_type": "code",
   "execution_count": 6,
   "metadata": {},
   "outputs": [],
   "source": [
    "points = [\n",
    "    PointStruct(\n",
    "        id=d[\"id\"],\n",
    "        vector=d[\"embedding\"],\n",
    "        payload={\"page_content\": d[\"摘要\"], \"metadata\": {\"裁判原文\": d[\"裁判原文\"], \"案件類型\": d[\"案件類型\"], \"類型\": d[\"類型\"], \"爭點\": d[\"爭點\"]}},\n",
    "    )\n",
    "    for d in data\n",
    "]\n"
   ]
  },
  {
   "cell_type": "code",
   "execution_count": 8,
   "metadata": {},
   "outputs": [
    {
     "name": "stdout",
     "output_type": "stream",
     "text": [
      "operation_id=0 status=<UpdateStatus.COMPLETED: 'completed'>\n"
     ]
    }
   ],
   "source": [
    "operation_info = client.upsert(\n",
    "    collection_name=COLLECTION_NAME, points=points, wait=True\n",
    ")\n",
    "print(operation_info)\n"
   ]
  }
 ],
 "metadata": {
  "kernelspec": {
   "display_name": "poc-PG0yFnHq-py3.10",
   "language": "python",
   "name": "python3"
  },
  "language_info": {
   "codemirror_mode": {
    "name": "ipython",
    "version": 3
   },
   "file_extension": ".py",
   "mimetype": "text/x-python",
   "name": "python",
   "nbconvert_exporter": "python",
   "pygments_lexer": "ipython3",
   "version": "3.10.14"
  }
 },
 "nbformat": 4,
 "nbformat_minor": 2
}
